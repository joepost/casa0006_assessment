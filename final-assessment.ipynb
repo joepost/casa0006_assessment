{
 "cells": [
  {
   "cell_type": "markdown",
   "id": "b7886474-d3d3-486d-a004-ee54fdef45eb",
   "metadata": {},
   "source": [
    "# CASA0006 DSSS: Final Assessment\n",
    "\n",
    "**Author:** Joe Post  \n",
    "**Student Number:** 22186870  \n",
    "**Date:** April 2023  \n",
    "\n",
    "**[Github repository](https://github.com/joepost/casa0006_assessment)**  \n",
    "\n",
    "---"
   ]
  },
  {
   "cell_type": "markdown",
   "id": "fea23a35-2678-4642-8817-0a44e292f64e",
   "metadata": {},
   "source": [
    "# Predicting crash rates using New Zealand transport data\n",
    "\n",
    "**Abstract:** This notebook ...\n",
    "\n",
    "## 1. Introduction\n",
    "\n",
    "### 1.1 Background \n",
    "\n",
    "Text ...\n",
    "\n",
    "### 1.2 Literature Review\n",
    "\n",
    "Text ...\n"
   ]
  },
  {
   "cell_type": "markdown",
   "id": "325dbea5-0913-4b8b-a1fe-20b0737cb3f3",
   "metadata": {},
   "source": [
    "## 3. Data Analysis\n",
    "\n",
    "### 3.1 Setup\n",
    "To conduct the analysis, the below packages need to be imported."
   ]
  },
  {
   "cell_type": "code",
   "execution_count": 2,
   "id": "b5b5c266-e8ed-43ed-a2cc-ddbb1b3c4083",
   "metadata": {},
   "outputs": [],
   "source": [
    "# Import packages\n",
    "import numpy as np\n",
    "import matplotlib.pyplot as plt\n",
    "import pandas as pd\n",
    "import sklearn\n",
    "from sklearn.linear_model import LinearRegression\n",
    "from sklearn.model_selection import train_test_split, GridSearchCV, validation_curve\n",
    "\n",
    "import statsmodels.api as sm\n",
    "\n",
    "pd.set_option('display.max_rows', 300) # specifies number of rows to show\n",
    "pd.options.display.float_format = '{:40,.4f}'.format # specifies default number format to 4 decimal places\n",
    "plt.style.use('ggplot') # specifies that graphs should use ggplot styling\n",
    "%matplotlib inline"
   ]
  },
  {
   "cell_type": "markdown",
   "id": "29f3fede-e952-4c74-a85c-ce85220048cf",
   "metadata": {},
   "source": [
    "### 3.2 Data cleaning\n",
    "The CSV file is read in as a pandas data frame, and columns changed to the appropriate data types."
   ]
  },
  {
   "cell_type": "code",
   "execution_count": 5,
   "id": "f5c8442a-3945-4a22-ba85-8a0a61add0d2",
   "metadata": {
    "tags": []
   },
   "outputs": [],
   "source": [
    "# Read in data\n",
    "df = pd.read_csv(\"data/Crash_Analysis_System_CAS_data.csv\")"
   ]
  },
  {
   "cell_type": "code",
   "execution_count": 10,
   "id": "e17a4d59-c518-4cff-b698-48c830a78355",
   "metadata": {},
   "outputs": [
    {
     "data": {
      "text/plain": [
       "(807933, 72)"
      ]
     },
     "execution_count": 10,
     "metadata": {},
     "output_type": "execute_result"
    }
   ],
   "source": [
    "df.shape"
   ]
  },
  {
   "cell_type": "code",
   "execution_count": 18,
   "id": "00ef6115-dae8-480c-8c87-9bd790b059c7",
   "metadata": {},
   "outputs": [
    {
     "data": {
      "text/plain": [
       "X                            float64\n",
       "Y                            float64\n",
       "OBJECTID                       int64\n",
       "advisorySpeed                float64\n",
       "areaUnitID                   float64\n",
       "bicycle                      float64\n",
       "bridge                       float64\n",
       "bus                          float64\n",
       "carStationWagon              float64\n",
       "cliffBank                    float64\n",
       "crashDirectionDescription     object\n",
       "crashFinancialYear            object\n",
       "crashLocation1                object\n",
       "crashLocation2                object\n",
       "crashRoadSideRoad            float64\n",
       "crashSeverity                 object\n",
       "crashSHDescription            object\n",
       "crashYear                      int64\n",
       "debris                       float64\n",
       "directionRoleDescription      object\n",
       "ditch                        float64\n",
       "fatalCount                   float64\n",
       "fence                        float64\n",
       "flatHill                      object\n",
       "guardRail                    float64\n",
       "holiday                       object\n",
       "houseOrBuilding              float64\n",
       "intersection                 float64\n",
       "kerb                         float64\n",
       "light                         object\n",
       "meshblockId                  float64\n",
       "minorInjuryCount             float64\n",
       "moped                        float64\n",
       "motorcycle                   float64\n",
       "NumberOfLanes                float64\n",
       "objectThrownOrDropped        float64\n",
       "otherObject                  float64\n",
       "otherVehicleType             float64\n",
       "overBank                     float64\n",
       "parkedVehicle                float64\n",
       "pedestrian                   float64\n",
       "phoneBoxEtc                  float64\n",
       "postOrPole                   float64\n",
       "region                        object\n",
       "roadCharacter                 object\n",
       "roadLane                      object\n",
       "roadSurface                   object\n",
       "roadworks                    float64\n",
       "schoolBus                    float64\n",
       "seriousInjuryCount           float64\n",
       "slipOrFlood                  float64\n",
       "speedLimit                   float64\n",
       "strayAnimal                  float64\n",
       "streetLight                   object\n",
       "suv                          float64\n",
       "taxi                         float64\n",
       "temporarySpeedLimit          float64\n",
       "tlaId                        float64\n",
       "tlaName                       object\n",
       "trafficControl                object\n",
       "trafficIsland                float64\n",
       "trafficSign                  float64\n",
       "train                        float64\n",
       "tree                         float64\n",
       "truck                        float64\n",
       "unknownVehicleType           float64\n",
       "urban                         object\n",
       "vanOrUtility                 float64\n",
       "vehicle                      float64\n",
       "waterRiver                   float64\n",
       "weatherA                      object\n",
       "weatherB                      object\n",
       "dtype: object"
      ]
     },
     "execution_count": 18,
     "metadata": {},
     "output_type": "execute_result"
    }
   ],
   "source": [
    "df.dtypes"
   ]
  },
  {
   "cell_type": "code",
   "execution_count": null,
   "id": "575563a2-6f16-44c2-b45d-7145a8ac8578",
   "metadata": {},
   "outputs": [],
   "source": []
  }
 ],
 "metadata": {
  "kernelspec": {
   "display_name": "Python 3 (ipykernel)",
   "language": "python",
   "name": "python3"
  },
  "language_info": {
   "codemirror_mode": {
    "name": "ipython",
    "version": 3
   },
   "file_extension": ".py",
   "mimetype": "text/x-python",
   "name": "python",
   "nbconvert_exporter": "python",
   "pygments_lexer": "ipython3",
   "version": "3.10.5"
  }
 },
 "nbformat": 4,
 "nbformat_minor": 5
}
