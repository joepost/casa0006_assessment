{
 "cells": [
  {
   "cell_type": "markdown",
   "id": "b7886474-d3d3-486d-a004-ee54fdef45eb",
   "metadata": {},
   "source": [
    "# CASA0006 DSSS: Final Assessment\n",
    "\n",
    "**Author:** Joe Post  \n",
    "**Student Number:** 22186870  \n",
    "**Date:** April 2023  \n",
    "\n",
    "**[Github repository](https://github.com/joepost/casa0006_assessment)**  \n",
    "\n",
    "---"
   ]
  },
  {
   "cell_type": "markdown",
   "id": "fea23a35-2678-4642-8817-0a44e292f64e",
   "metadata": {},
   "source": [
    "# Predicting crash severity using New Zealand transport data\n",
    "\n",
    "**Abstract:** This notebook ...\n",
    "\n",
    "## 1. Introduction\n",
    "\n",
    "### 1.1 Background \n",
    "\n",
    "Text ...\n",
    "\n",
    "### 1.2 Literature Review\n",
    "\n",
    "Text ...\n",
    "\n",
    "### 1.3 Research Question\n",
    "\n",
    "Text ..."
   ]
  },
  {
   "cell_type": "markdown",
   "id": "cac33f45-7e42-4992-9499-bd3a87d5f2a2",
   "metadata": {},
   "source": [
    "## 2. Methodology\n",
    "\n",
    "Text"
   ]
  },
  {
   "cell_type": "markdown",
   "id": "325dbea5-0913-4b8b-a1fe-20b0737cb3f3",
   "metadata": {
    "tags": []
   },
   "source": [
    "## 3. Data Analysis\n",
    "\n",
    "### 3.1 Setup\n",
    "To conduct the analysis, the below packages need to be imported."
   ]
  },
  {
   "cell_type": "code",
   "execution_count": 5,
   "id": "ab93f31f-1efb-424c-89e9-16dbc5e6ff13",
   "metadata": {},
   "outputs": [
    {
     "name": "stdout",
     "output_type": "stream",
     "text": [
      "Collecting imblearn\n",
      "  Downloading imblearn-0.0-py2.py3-none-any.whl (1.9 kB)\n",
      "Collecting imbalanced-learn\n",
      "  Downloading imbalanced_learn-0.10.1-py3-none-any.whl (226 kB)\n",
      "\u001b[2K     \u001b[90m━━━━━━━━━━━━━━━━━━━━━━━━━━━━━━━━━━━━━━━\u001b[0m \u001b[32m226.0/226.0 kB\u001b[0m \u001b[31m5.0 MB/s\u001b[0m eta \u001b[36m0:00:00\u001b[0ma \u001b[36m0:00:01\u001b[0m\n",
      "\u001b[?25hRequirement already satisfied: numpy>=1.17.3 in /opt/conda/lib/python3.10/site-packages (from imbalanced-learn->imblearn) (1.22.4)\n",
      "Collecting joblib>=1.1.1\n",
      "  Downloading joblib-1.2.0-py3-none-any.whl (297 kB)\n",
      "\u001b[2K     \u001b[90m━━━━━━━━━━━━━━━━━━━━━━━━━━━━━━━━━━━━━━━\u001b[0m \u001b[32m298.0/298.0 kB\u001b[0m \u001b[31m5.8 MB/s\u001b[0m eta \u001b[36m0:00:00\u001b[0ma \u001b[36m0:00:01\u001b[0m\n",
      "\u001b[?25hRequirement already satisfied: threadpoolctl>=2.0.0 in /opt/conda/lib/python3.10/site-packages (from imbalanced-learn->imblearn) (3.1.0)\n",
      "Requirement already satisfied: scipy>=1.3.2 in /opt/conda/lib/python3.10/site-packages (from imbalanced-learn->imblearn) (1.9.1)\n",
      "Requirement already satisfied: scikit-learn>=1.0.2 in /opt/conda/lib/python3.10/site-packages (from imbalanced-learn->imblearn) (1.1.1)\n",
      "Installing collected packages: joblib, imbalanced-learn, imblearn\n",
      "  Attempting uninstall: joblib\n",
      "    Found existing installation: joblib 1.1.0\n",
      "    Uninstalling joblib-1.1.0:\n",
      "      Successfully uninstalled joblib-1.1.0\n",
      "\u001b[31mERROR: pip's dependency resolver does not currently take into account all the packages that are installed. This behaviour is the source of the following dependency conflicts.\n",
      "pandas-profiling 3.3.0 requires joblib~=1.1.0, but you have joblib 1.2.0 which is incompatible.\u001b[0m\u001b[31m\n",
      "\u001b[0mSuccessfully installed imbalanced-learn-0.10.1 imblearn-0.0 joblib-1.2.0\n"
     ]
    }
   ],
   "source": [
    "# Install a pip package in the current Jupyter kernel\n",
    "import sys\n",
    "!{sys.executable} -m pip install imblearn"
   ]
  },
  {
   "cell_type": "code",
   "execution_count": 6,
   "id": "b5b5c266-e8ed-43ed-a2cc-ddbb1b3c4083",
   "metadata": {},
   "outputs": [],
   "source": [
    "import numpy as np\n",
    "import pandas as pd\n",
    "import geopandas as gpd\n",
    "import pysal as ps\n",
    "import seaborn as sns\n",
    "import matplotlib.pyplot as plt\n",
    "import plotly.express as px\n",
    "import time\n",
    "\n",
    "import sklearn\n",
    "from sklearn.model_selection import train_test_split, GridSearchCV, validation_curve\n",
    "from sklearn.metrics import (confusion_matrix, roc_auc_score, balanced_accuracy_score, accuracy_score,\n",
    "                            precision_score, recall_score, classification_report)\n",
    "from sklearn.inspection import permutation_importance\n",
    "\n",
    "# from sklearn.neighbors import NearestNeighbors\n",
    "# from sklearn.cluster import KMeans, DBSCAN, OPTICS, AgglomerativeClustering\n",
    "\n",
    "# preprocessors\n",
    "from sklearn.preprocessing import StandardScaler, OneHotEncoder\n",
    "from sklearn.impute import SimpleImputer\n",
    "from sklearn.compose import ColumnTransformer\n",
    "\n",
    "from imblearn.over_sampling import SMOTE   # run SMOTE (synthetic minority oversampling technique)\n",
    "from imblearn.over_sampling import SMOTENC\n",
    "\n",
    "# pipeline\n",
    "from sklearn.pipeline import Pipeline as skPipeline\n",
    "from imblearn.pipeline import Pipeline as imbPipeline\n",
    "\n",
    "# CART\n",
    "from sklearn.tree import DecisionTreeRegressor\n",
    "\n",
    "# random forest\n",
    "from sklearn.ensemble import RandomForestRegressor\n",
    "from sklearn.ensemble import RandomForestClassifier\n",
    "\n",
    "# xgboost\n",
    "import xgboost\n",
    "from xgboost import XGBRegressor\n",
    "from xgboost import XGBClassifier\n",
    "\n",
    "pd.set_option('display.max_rows', 300) # specifies number of rows to show\n",
    "pd.options.display.float_format = '{:40,.4f}'.format # specifies default number format to 4 decimal places\n",
    "plt.style.use('ggplot') # specifies that graphs should use ggplot styling\n",
    "%matplotlib inline"
   ]
  },
  {
   "cell_type": "markdown",
   "id": "29f3fede-e952-4c74-a85c-ce85220048cf",
   "metadata": {},
   "source": [
    "### 3.2 Data cleaning\n",
    "#### Read data\n",
    "The CSV file is read in as a pandas data frame, and columns changed to the appropriate data types."
   ]
  },
  {
   "cell_type": "code",
   "execution_count": 220,
   "id": "f5c8442a-3945-4a22-ba85-8a0a61add0d2",
   "metadata": {
    "tags": []
   },
   "outputs": [
    {
     "data": {
      "text/plain": [
       "(323995, 61)"
      ]
     },
     "execution_count": 220,
     "metadata": {},
     "output_type": "execute_result"
    }
   ],
   "source": [
    "# Read in data\n",
    "df_raw = pd.read_csv(\"data/Crash_Analysis_System_CAS_data.csv\", na_values = \"Null\")\n",
    "df.shape"
   ]
  },
  {
   "cell_type": "markdown",
   "id": "e00332be-50c5-49fa-82e8-9a090873ee96",
   "metadata": {},
   "source": [
    "#### Clean missing data\n",
    "The table below shows the default data type of imported columns, and a count of non-null values for each column. There are 807,933 observations (rows) in the dataset, and 72 features (columns).  "
   ]
  },
  {
   "cell_type": "code",
   "execution_count": null,
   "id": "8badab68-06af-4cbc-ba99-83f58c582ba8",
   "metadata": {},
   "outputs": [],
   "source": [
    "# df.dtypes\n",
    "df_raw.info()"
   ]
  },
  {
   "cell_type": "markdown",
   "id": "ee6a0f93-7dd2-41fc-8e0a-8ad81ba6a8dd",
   "metadata": {},
   "source": [
    "Of these, 7 have a very high proportion of missing data (>90% of observations) - they are `advisorySpeed`, `crashRoadSideRoad`, `holiday`, `intersection`, `pedestrian`, `temporarySpeedLimit`, and `weatherB`. Through background reading of the [metadata](https://opendata-nzta.opendata.arcgis.com/pages/cas-data-field-descriptions), and investigation of the data, it can be seen that these columns contain a mix of true missing data and incorrectly coded real data. For example, `pedestrian` is defined as a \"\\[d\\]erived variable to indicate how many pedestrians were involved in the crash. This includes pedestrians on skateboards, scooters and wheelchairs.\" However, non-missing values for `pedestrian` range from \\[1,6\\], meaning that no crash events have a value of '0' recorded. It is reasonable to assume that crashes with a null value for `pedestrian` actually represent events where no pedestrians were involved, as opposed to events where the number of pedestrians involved were not known or not recorded. Similarly, `holiday` only records an entry if the event falls into one of the four categories of Christmas/New Year, Easter, Labour Weekend, or Queens Birthday. Missing data in this column therefore likely represent events that occurred outside of these holiday dates. \n",
    "\n",
    "However, the columns `crashRoadSideRoad` and `intersection` are missing all data, and these were removed from the analysis. For `weatherB`, the observed possible values of 'Strong Wind', 'Frost', 'None' or missing do not align with the metadata description (where values are stated as 'Strong Wind', 'Frost' or 'Unknown'). Due to the ambiguity between 'None' and missing data, this column has been removed. \n",
    "\n",
    "For `temporarySpeedLimit` and `advisorySpeed`, missing data represents a true absence - in these cases, no temporary or advisory speed limit was in effect at the time and location of the crash event. Due to the low proportion of observations with a temporary or advisory speed limit in effect, these fields have been converted to boolean - where a present limit is True and no limit classed as False.\n",
    "\n",
    "Finally, free-text columns have been removed as these will not be useful in the ML model, as well as a series of redundant fields where the information is contained in another variable. These are `OBJECTID`, `areaUnitID`, `crashDirectionDescription`, `crashFinancialYear`, `crashLocation1`, `crashLocation2`, `crashFinancialYear`, `meshblockId`, `tlaName` and `tlaId`."
   ]
  },
  {
   "cell_type": "code",
   "execution_count": null,
   "id": "2e54b411-bf6b-4677-a4da-6bb7b91fee7f",
   "metadata": {},
   "outputs": [],
   "source": [
    "checkmissing = df_raw[[\"pedestrian\", \"advisorySpeed\", \n",
    "                   # \"holiday\", \"weatherB\",        #commented out as these are non-numeric columns; see cells below\n",
    "                   \"crashRoadSideRoad\", \"intersection\", \"temporarySpeedLimit\"]]\n",
    "checkmissing.describe()"
   ]
  },
  {
   "cell_type": "code",
   "execution_count": null,
   "id": "fd7d643a-d574-41df-9618-ba18ffb5a98b",
   "metadata": {},
   "outputs": [],
   "source": [
    "df_raw['holiday'].unique()"
   ]
  },
  {
   "cell_type": "code",
   "execution_count": null,
   "id": "c7611dd7-294c-4d21-a66e-a4ac832dd5c3",
   "metadata": {},
   "outputs": [],
   "source": [
    "df_raw['weatherB'].unique()"
   ]
  },
  {
   "cell_type": "code",
   "execution_count": null,
   "id": "9b9cee2e-68c2-4fe3-8eff-49f64bce8a74",
   "metadata": {},
   "outputs": [],
   "source": [
    "df_raw.drop(columns=['OBJECTID', 'areaUnitID', 'crashRoadSideRoad', 'crashDirectionDescription', 'crashFinancialYear', 'crashLocation1', 'crashLocation2', 'meshblockId', 'tlaName', 'tlaId', 'intersection', 'weatherB'], inplace=True)   # drop unwanted columns\n",
    "df_raw.pedestrian.fillna(value=0, inplace=True)     # replace missing pedestrian values with count of 0\n",
    "df_raw.holiday.fillna(value=\"None\", inplace=True)   # replace missing holiday values with category 'None'"
   ]
  },
  {
   "cell_type": "code",
   "execution_count": null,
   "id": "1c258a92-e437-4b70-9348-f40b1d14f605",
   "metadata": {
    "tags": []
   },
   "outputs": [],
   "source": [
    "# TO DECIDE: fill missing values with unknown, OR impute with the mode? \n",
    "\n",
    "df_raw.streetLight.fillna(value=\"Unknown\", inplace=True)   # replace missing streetLight values with category 'Unknown'\n",
    "df_raw.weatherA.fillna(value=\"Unknown\", inplace=True)  # replace missing weather values with category 'unknown'\n",
    "df_raw.directionRoleDescription.fillna(value=\"Unknown\", inplace=True)  # replace missing direction values with category 'unknown'\n",
    "df_raw.flatHill.fillna(value=\"Unknown\", inplace=True)  # replace missing hill status with category 'unknown'"
   ]
  },
  {
   "cell_type": "code",
   "execution_count": null,
   "id": "d7e0aa88-b3cb-4193-9d3c-02a34ab80f34",
   "metadata": {},
   "outputs": [],
   "source": [
    "temporarySpeedLimit_bool = df_raw[\"temporarySpeedLimit\"].notnull()\n",
    "df_raw[\"temporarySpeedLimit_bool\"] = temporarySpeedLimit_bool\n",
    "\n",
    "advisorySpeed_bool = df_raw[\"advisorySpeed\"].notnull()\n",
    "df_raw[\"advisorySpeed_bool\"] = advisorySpeed_bool\n",
    "\n",
    "df_raw[[\"temporarySpeedLimit_bool\",\"advisorySpeed_bool\"]]\n",
    "\n",
    "# REMOVE original tempspeed and advisoryspeed \n",
    "df_raw.drop(columns=['temporarySpeedLimit','advisorySpeed'], inplace=True)"
   ]
  },
  {
   "cell_type": "markdown",
   "id": "3b4fea8e-0e7b-43c4-b202-4692054a6084",
   "metadata": {},
   "source": [
    "A second subset of 23 columns have a non-null count of 325,939, meaning they are missing data for approximately 60% of observations. These are `bridge`, `cliffBank`, `debris`, `ditch`, `fence`, `guardRail`, `houseOrBuilding`, `kerb`, `objectThrownOrDropped`, `otherObject`, `overBank`, `parkedVehicle`, `phoneBoxEtc`, `postOrPole`, `roadworks`, `slipOrFlood`, `strayAnimal`, `trafficIsland`, `trafficSign`, `train`, `tree`, `vehicle`, and `waterRiver`. These columns all collect data on the number of objects of *type* that were struck in the crash, and are systematically either present or missing. Because of the large set of columns in this group, a subset of the dataframe has been created which keeps these columns but removes observations where they have missing data."
   ]
  },
  {
   "cell_type": "code",
   "execution_count": null,
   "id": "d812627f-c1e1-4993-aefd-e732a2a4eb32",
   "metadata": {},
   "outputs": [],
   "source": [
    "# Set up list of columns with low/no missing data\n",
    "columnsetA = ['bicycle', 'bus', 'carStationWagon',\n",
    "           'crashSeverity', 'crashSHDescription', 'crashYear',\n",
    "           'directionRoleDescription', 'fatalCount', 'flatHill', 'light',\n",
    "           'minorInjuryCount', 'moped', 'motorcycle', 'NumberOfLanes',\n",
    "           'otherVehicleType', 'pedestrian', 'region',\n",
    "           'roadCharacter', 'roadLane', 'roadSurface', 'schoolBus',\n",
    "           'seriousInjuryCount', 'speedLimit', 'streetLight', 'suv', 'taxi',\n",
    "           'trafficControl', 'truck', 'unknownVehicleType', 'urban', 'vanOrUtility', 'weatherA']\n",
    "    \n",
    "# Set up list of columns with 60% missing data\n",
    "columnsetB = ['bridge', 'cliffBank', 'debris', 'ditch', 'fence', 'guardRail',\n",
    "           'houseOrBuilding', 'kerb', 'objectThrownOrDropped', 'otherObject', 'overBank',\n",
    "           'parkedVehicle', 'phoneBoxEtc', 'postOrPole', 'roadworks', 'slipOrFlood', 'strayAnimal',\n",
    "           'trafficIsland', 'trafficSign', 'train', 'tree','vehicle','waterRiver']"
   ]
  },
  {
   "cell_type": "code",
   "execution_count": null,
   "id": "70ea29d9-040d-4176-acf5-d659690af90f",
   "metadata": {},
   "outputs": [],
   "source": [
    "# Set up subset of dataframe where rows missing data for ColumnSetB are removed\n",
    "df_cb = df_raw.dropna(axis=0, subset=columnsetB)\n",
    "df_cb.shape"
   ]
  },
  {
   "cell_type": "code",
   "execution_count": null,
   "id": "aac4a6f2-eeb3-48dd-a861-c51a2809441a",
   "metadata": {},
   "outputs": [],
   "source": [
    "# Use this cell to define the analysis dataset (i.e. df_raw or df_cb)\n",
    "# The default is to use the ColumnSetB subset\n",
    "df = df_cb"
   ]
  },
  {
   "cell_type": "markdown",
   "id": "8decf948-3940-4727-b839-341649b4514e",
   "metadata": {},
   "source": [
    "After removing unnecessary columns and creating the ColumnSetB subset of the dataframe, the data is checked for any remaining missing values."
   ]
  },
  {
   "cell_type": "code",
   "execution_count": null,
   "id": "947ef597-f1ba-4152-b470-7e3eacbd58b1",
   "metadata": {},
   "outputs": [],
   "source": [
    "n_total = df.X.count()\n",
    "missing = pd.DataFrame(df.isna().sum(axis=0))\n",
    "missing.rename(columns={0:'nullcount'}, inplace=True)\n",
    "missing[\"null_pc\"]=missing[\"nullcount\"]/n_total\n",
    "\n",
    "missing[missing[\"null_pc\"]>0]"
   ]
  },
  {
   "cell_type": "markdown",
   "id": "44c41a03-9927-4b16-bac5-9b658510cbd4",
   "metadata": {},
   "source": [
    "The missing values in these columns all represent a very small percentage (<0.05%) of the total observations. Therefore, these observations have been removed. "
   ]
  },
  {
   "cell_type": "code",
   "execution_count": null,
   "id": "f8427667-a31a-47a5-8c47-3ed18779c0f7",
   "metadata": {},
   "outputs": [],
   "source": [
    "# remove any remaining observations with missing data\n",
    "df = df.dropna(axis=\"index\")\n",
    "df.shape"
   ]
  },
  {
   "cell_type": "markdown",
   "id": "88cd8394-3b61-4b86-88fe-bf92ad36b9bb",
   "metadata": {
    "tags": []
   },
   "source": [
    "#### Dependent variable\n",
    "The outcome variable of interest for this study is the crash severity, which is measured by three variables: \n",
    "1. `crashSeverity`: categorised as Non-injury Crash, Minor Crash, Serious Crash, or Fatal Crash\n",
    "1. `seriousInjuryCount`: count of the serious injuries associated with this crash\n",
    "1. `fatalCount`: count of the fatal casualties associated with this crash\n",
    "\n",
    "As fatal count and serious injury count are both heavily skewed towards zero, crash severity category will be used as the main dependent variable for the ML model. Of the four crash severity categories, there is a comparatively very low count of fatal crashes (<1%). Therefore, 'Fatal Crash' and 'Serious Crash' have been combined into a single category for the analyis. This reflects the approach taken in the literature, for example **PROVIDE REFERENCES**"
   ]
  },
  {
   "cell_type": "code",
   "execution_count": null,
   "id": "912d5063-d219-4dae-b03f-ff3f387a5873",
   "metadata": {},
   "outputs": [],
   "source": [
    "df['crashSeverity_3cat'] = np.where(df['crashSeverity']=='Fatal Crash', 'Serious/Fatal Crash', \n",
    "                                    np.where(df['crashSeverity']=='Serious Crash', 'Serious/Fatal Crash', \n",
    "                                             df['crashSeverity']))\n",
    "\n",
    "df[[\"crashSeverity\", \"crashSeverity_3cat\"]]"
   ]
  },
  {
   "cell_type": "code",
   "execution_count": null,
   "id": "e07da127-fbe9-4ffc-a91f-9d732c1c55bd",
   "metadata": {},
   "outputs": [],
   "source": [
    "fig, axes = plt.subplots(1, 2, figsize = (15,5))\n",
    "# create chart in each subplot\n",
    "sa1 = sns.countplot(data=df, x='crashSeverity', order=['Non-Injury Crash', 'Minor Crash', 'Serious Crash', 'Fatal Crash'], ax=axes[0], palette=\"deep\").set(\n",
    "    title=\"Crashes by severity category\", xlabel=\"Severity\", ylabel=\"Count\")\n",
    "sa2 = sns.countplot(data=df, x='crashSeverity_3cat', order=['Non-Injury Crash', 'Minor Crash', 'Serious/Fatal Crash'], ax=axes[1], palette=\"pastel\").set(\n",
    "    title=\"Crashes by severity category \\n (combined categories)\", xlabel=\"Severity\", ylabel=\"Count\")\n",
    "\n",
    "plt.show()"
   ]
  },
  {
   "cell_type": "markdown",
   "id": "12f4fe5e-c5a1-49cb-9290-39c0f691fa4d",
   "metadata": {
    "tags": []
   },
   "source": [
    "#### Set data types\n",
    "Several columns in the dataset represent categorical data, where the input has been coded to one value out of a specific set - for example, the local government region where the crash occurred. Categorical columns in the dataframe are set accordingly, and the levels for each category checked to ensure it matches the metadata provided. \n",
    "\n",
    "The following columns are converted to categories:  \n",
    "* `region`\n",
    "* `crashSeverity`\n",
    "* `crashSeverity_3cat`\n",
    "* `crashSHDescription`\n",
    "* `directionRoleDescription`\n",
    "* `flatHill`\n",
    "* `holiday`\n",
    "* `light`\n",
    "* `roadCharacter`\n",
    "* `roadLane`\n",
    "* `roadSurface`\n",
    "* `streetLight`\n",
    "* `trafficControl`\n",
    "* `urban`\n",
    "* `weatherA`\n",
    "* `weatherB`\n",
    "\n",
    "See below for a summary table (Table 1) of each categorical column, broken down proportionally by category. Tables 2 & 3 show the descriptive statistics for numeric variables, for column sets A and B, respectively.  "
   ]
  },
  {
   "cell_type": "code",
   "execution_count": null,
   "id": "47bbab8f-ed2e-40e2-b2af-029386f92659",
   "metadata": {},
   "outputs": [],
   "source": [
    "# Convert category columns to category type\n",
    "df = df.astype({\n",
    "    \"region\":\"category\",\n",
    "    \"crashSeverity\":\"category\",\n",
    "    \"crashSeverity_3cat\":\"category\",\n",
    "    \"crashSHDescription\":\"category\",\n",
    "    \"directionRoleDescription\":\"category\",\n",
    "    \"flatHill\":\"category\",\n",
    "    \"holiday\":\"category\",\n",
    "    \"light\":\"category\",\n",
    "    \"roadCharacter\":\"category\",\n",
    "    \"roadLane\":\"category\",\n",
    "    \"roadSurface\":\"category\",\n",
    "    \"streetLight\":\"category\",\n",
    "    \"trafficControl\":\"category\",\n",
    "    \"urban\":\"category\",\n",
    "    \"weatherA\":\"category\"\n",
    "})\n",
    "\n",
    "catcols = [\"region\", \"crashSeverity\", \"crashSeverity_3cat\", \"crashSHDescription\", \"directionRoleDescription\", \"flatHill\",\n",
    "           \"holiday\", \"light\", \"roadCharacter\", \"roadLane\", \"roadSurface\", \"streetLight\", \"trafficControl\", \"urban\", \"weatherA\", \n",
    "           # include boolean columns\n",
    "          \"temporarySpeedLimit_bool\", \"advisorySpeed_bool\"]"
   ]
  },
  {
   "cell_type": "markdown",
   "id": "d9042c6e-213f-4fc5-a33b-0f19a0b2fa83",
   "metadata": {},
   "source": [
    "##### Table 1.  Categorical variables in crash dataset"
   ]
  },
  {
   "cell_type": "code",
   "execution_count": null,
   "id": "abfb7c31-113f-4114-9473-399b8967db22",
   "metadata": {},
   "outputs": [],
   "source": [
    "# create loop of categorical variables to produce summary tables\n",
    "for i in catcols:\n",
    "    agg_df = df[[i, 'X']].groupby(i).count().rename(columns={'X':'count'}).sort_values('count', axis=0, ascending=False)\n",
    "    total = agg_df.sum().values   # store the total as a value\n",
    "    agg_df['percent'] = agg_df['count']/total*100   # calculate row-wise percentage\n",
    "    print(agg_df)   # print table\n",
    "    print(\"\\n\")"
   ]
  },
  {
   "cell_type": "markdown",
   "id": "cb20c5ee-a302-4f7a-ba9c-fcdf4c3e3814",
   "metadata": {},
   "source": [
    "##### Table 2. Numeric variables in crash data set (Set A: low/no missing data)"
   ]
  },
  {
   "cell_type": "code",
   "execution_count": null,
   "id": "04810099-91fc-4b32-85dc-519a9b6c2d0e",
   "metadata": {},
   "outputs": [],
   "source": [
    "df[columnsetA].describe()"
   ]
  },
  {
   "cell_type": "markdown",
   "id": "d456eb6b-6eb2-492f-b936-c061e8f177ee",
   "metadata": {},
   "source": [
    "##### Table 3. Numeric variables in crash data set (Set B: approx. 60% missing data)"
   ]
  },
  {
   "cell_type": "code",
   "execution_count": null,
   "id": "47357718-85b9-4a23-a0f7-c3c056996c47",
   "metadata": {},
   "outputs": [],
   "source": [
    "df[columnsetB].describe()"
   ]
  },
  {
   "cell_type": "markdown",
   "id": "f872237a-ac0d-4afb-8624-58f7eb776e6e",
   "metadata": {
    "tags": []
   },
   "source": [
    "#### Spatial conversion\n",
    "The pandas dataframe is converted into a geopandas geodataframe, using the X/Y coordinates provided. These coordinates represent Easting/Northing values in the [NZTM2000](https://www.linz.govt.nz/guidance/geodetic-system/coordinate-systems-used-new-zealand/projections/new-zealand-transverse-mercator-2000-nztm2000) projection, which has the [EPSG code 2193](https://spatialreference.org/ref/epsg/2193/). The geodataframe is then plotted to confirm that the projection has been read as expected. "
   ]
  },
  {
   "cell_type": "code",
   "execution_count": null,
   "id": "982fd824-8e25-41f5-9c6b-9150712cad22",
   "metadata": {},
   "outputs": [],
   "source": [
    "gdf = gpd.GeoDataFrame(\n",
    "    df, geometry=gpd.points_from_xy(df.X, df.Y), crs = \"EPSG:2193\") "
   ]
  },
  {
   "cell_type": "code",
   "execution_count": 21,
   "id": "3fe2d69e-2900-46d3-9c23-0bcaedc286cf",
   "metadata": {},
   "outputs": [
    {
     "data": {
      "text/plain": [
       "<AxesSubplot:>"
      ]
     },
     "execution_count": 21,
     "metadata": {},
     "output_type": "execute_result"
    },
    {
     "data": {
      "image/png": "[encoded data removed]",
      "text/plain": [
       "<Figure size 432x288 with 1 Axes>"
      ]
     },
     "metadata": {
      "needs_background": "light"
     },
     "output_type": "display_data"
    }
   ],
   "source": [
    "gdf.plot(marker='*', color='blue', markersize=5)"
   ]
  },
  {
   "cell_type": "code",
   "execution_count": 22,
   "id": "050eecb7-3d5e-4c1e-937a-abb83705b58a",
   "metadata": {},
   "outputs": [
    {
     "data": {
      "text/plain": [
       "(325939, 62)"
      ]
     },
     "execution_count": 22,
     "metadata": {},
     "output_type": "execute_result"
    }
   ],
   "source": [
    "# TO REMOVE: (FUNCTION ADDED EARLIER IN SCRIPT)\n",
    "## Set up subset of dataframe where rows missing data for ColumnSetB are removed\n",
    "# gdf_cb = gdf.dropna(axis=0, subset=columnsetB)\n",
    "# gdf_cb.shape"
   ]
  },
  {
   "cell_type": "code",
   "execution_count": 77,
   "id": "1400a4be-5c91-429f-a2fb-6121dafb1e53",
   "metadata": {},
   "outputs": [
    {
     "data": {
      "text/html": [
       "<div>\n",
       "<style scoped>\n",
       "    .dataframe tbody tr th:only-of-type {\n",
       "        vertical-align: middle;\n",
       "    }\n",
       "\n",
       "    .dataframe tbody tr th {\n",
       "        vertical-align: top;\n",
       "    }\n",
       "\n",
       "    .dataframe thead th {\n",
       "        text-align: right;\n",
       "    }\n",
       "</style>\n",
       "<table border=\"1\" class=\"dataframe\">\n",
       "  <thead>\n",
       "    <tr style=\"text-align: right;\">\n",
       "      <th></th>\n",
       "      <th>nullcount</th>\n",
       "      <th>null_pc</th>\n",
       "    </tr>\n",
       "  </thead>\n",
       "  <tbody>\n",
       "    <tr>\n",
       "      <th>advisorySpeed</th>\n",
       "      <td>305052</td>\n",
       "      <td>0.9359</td>\n",
       "    </tr>\n",
       "    <tr>\n",
       "      <th>directionRoleDescription</th>\n",
       "      <td>1551</td>\n",
       "      <td>0.0048</td>\n",
       "    </tr>\n",
       "    <tr>\n",
       "      <th>fatalCount</th>\n",
       "      <td>1</td>\n",
       "      <td>0.0000</td>\n",
       "    </tr>\n",
       "    <tr>\n",
       "      <th>flatHill</th>\n",
       "      <td>1944</td>\n",
       "      <td>0.0060</td>\n",
       "    </tr>\n",
       "    <tr>\n",
       "      <th>minorInjuryCount</th>\n",
       "      <td>1</td>\n",
       "      <td>0.0000</td>\n",
       "    </tr>\n",
       "    <tr>\n",
       "      <th>NumberOfLanes</th>\n",
       "      <td>636</td>\n",
       "      <td>0.0020</td>\n",
       "    </tr>\n",
       "    <tr>\n",
       "      <th>region</th>\n",
       "      <td>750</td>\n",
       "      <td>0.0023</td>\n",
       "    </tr>\n",
       "    <tr>\n",
       "      <th>roadLane</th>\n",
       "      <td>209</td>\n",
       "      <td>0.0006</td>\n",
       "    </tr>\n",
       "    <tr>\n",
       "      <th>roadSurface</th>\n",
       "      <td>385</td>\n",
       "      <td>0.0012</td>\n",
       "    </tr>\n",
       "    <tr>\n",
       "      <th>seriousInjuryCount</th>\n",
       "      <td>1</td>\n",
       "      <td>0.0000</td>\n",
       "    </tr>\n",
       "    <tr>\n",
       "      <th>speedLimit</th>\n",
       "      <td>362</td>\n",
       "      <td>0.0011</td>\n",
       "    </tr>\n",
       "    <tr>\n",
       "      <th>temporarySpeedLimit</th>\n",
       "      <td>320221</td>\n",
       "      <td>0.9825</td>\n",
       "    </tr>\n",
       "    <tr>\n",
       "      <th>weatherA</th>\n",
       "      <td>5846</td>\n",
       "      <td>0.0179</td>\n",
       "    </tr>\n",
       "  </tbody>\n",
       "</table>\n",
       "</div>"
      ],
      "text/plain": [
       "                          nullcount                                  null_pc\n",
       "advisorySpeed                305052                                   0.9359\n",
       "directionRoleDescription       1551                                   0.0048\n",
       "fatalCount                        1                                   0.0000\n",
       "flatHill                       1944                                   0.0060\n",
       "minorInjuryCount                  1                                   0.0000\n",
       "NumberOfLanes                   636                                   0.0020\n",
       "region                          750                                   0.0023\n",
       "roadLane                        209                                   0.0006\n",
       "roadSurface                     385                                   0.0012\n",
       "seriousInjuryCount                1                                   0.0000\n",
       "speedLimit                      362                                   0.0011\n",
       "temporarySpeedLimit          320221                                   0.9825\n",
       "weatherA                       5846                                   0.0179"
      ]
     },
     "execution_count": 77,
     "metadata": {},
     "output_type": "execute_result"
    }
   ],
   "source": [
    "n_total = gdf_cb.X.count()\n",
    "missing = pd.DataFrame(gdf_cb.isnull().sum(axis=0))\n",
    "missing.rename(columns={0:'nullcount'}, inplace=True)\n",
    "missing[\"null_pc\"]=missing[\"nullcount\"]/n_total\n",
    "\n",
    "missing[missing[\"null_pc\"]>0]"
   ]
  },
  {
   "cell_type": "markdown",
   "id": "e7771297-fb5e-4a71-8cc5-796cc7ba3b88",
   "metadata": {
    "tags": []
   },
   "source": [
    "### 3.X Fitting and evaluating a model\n",
    "#### Training Testing Split\n",
    "The first step in preparing a machine learning model is to split the dataset into a training and testing subsets. "
   ]
  },
  {
   "cell_type": "code",
   "execution_count": 23,
   "id": "9ee802ef-d2d5-4abc-9dd8-997078043f00",
   "metadata": {},
   "outputs": [],
   "source": [
    "# Set inputs for model\n",
    "data = gdf_cb    # alternative: full dataset 'gdf'\n",
    "y_var = 'crashSeverity_3cat'"
   ]
  },
  {
   "cell_type": "code",
   "execution_count": 38,
   "id": "25485cb4-7eab-466c-8a82-ba91e4377a00",
   "metadata": {},
   "outputs": [],
   "source": [
    "gdfX = data.drop(columns=['crashSeverity', 'crashSeverity_3cat', 'seriousInjuryCount', 'fatalCount'])  # create df containing only the predictor variables\n",
    "gdfY = data[y_var]  # create array containing only the classifications/labels\n",
    "\n",
    "random_state_split = 50\n",
    "train_x, test_x, train_y, test_y = train_test_split(gdfX, gdfY, random_state=random_state_split)"
   ]
  },
  {
   "cell_type": "code",
   "execution_count": null,
   "id": "8c479e50-ae20-4413-bf19-3ef8780bc240",
   "metadata": {},
   "outputs": [],
   "source": [
    "# Initiate SMOTE resampling\n",
    "X_resampled, y_resampled = SMOTE().fit_resample(gdfX, gdfY)\n",
    "print(sorted(Counter(y_resampled).items()))\n"
   ]
  },
  {
   "cell_type": "code",
   "execution_count": 25,
   "id": "e603ecbc-931a-4198-ac53-69254b26e1f6",
   "metadata": {},
   "outputs": [
    {
     "name": "stdout",
     "output_type": "stream",
     "text": [
      "Full dataset size: (325939, 62)\n",
      "Training dataset size:\n",
      "(244454, 58)\n",
      "(244454,)\n",
      "Test dataset size:\n",
      "(81485, 58)\n",
      "(81485,)\n"
     ]
    }
   ],
   "source": [
    "print(f\"Full dataset size: {data.shape}\")\n",
    "\n",
    "print(\"Training dataset size:\")\n",
    "print(train_x.shape)\n",
    "print(train_y.shape)\n",
    "      \n",
    "print(\"Test dataset size:\")\n",
    "print(test_x.shape)\n",
    "print(test_y.shape)"
   ]
  },
  {
   "cell_type": "markdown",
   "id": "854fd28a-3e19-41ae-8216-1558965ab70d",
   "metadata": {},
   "source": [
    "#### Model Pipeline\n",
    "To prepare the data for modelling, two pre-processing steps are run: imputation of missing values, and standardisation of numeric variables. Imputation replaces missing observations with the *median* value for that feature; median has been chosen over mean due to the numeric variables being heavily skewed towards zero. For categorical values, missing observations are replaced with the mode category. After defining the pre-processing steps, an estimator is added to the ML pipeline, which specifies the ML algorithms to be used. For this project, a remote forest classifier (Breiman 2001) has been chosen. \n",
    "\n",
    "**NOTE: Need to clarify**\n",
    "* Is one-hot encoding necessary for RandomForest? (appears not to be; in fact can be detrimental)\n",
    "* Attempt to run an RF model independently (without using pipeline method). See if error still occurs\n",
    "* Additional steps - incorporate spatial dependence explicity into model, as in the case of *Effati (2015)*; this would involve calculating a new column of spatial autocorrelation, and including this as a feature in the ML (I think...)\n",
    "* From [sklearn documentation](https://scikit-learn.org/stable/modules/tree.html#tips-on-practical-use): Balance your dataset before training to prevent the tree from being biased toward the classes that are dominant. Class balancing can be done by sampling an equal number of samples from each class, or preferably by normalizing the sum of the sample weights (sample_weight) for each class to the same value. Also note that weight-based pre-pruning criteria, such as min_weight_fraction_leaf, will then be less biased toward dominant classes than criteria that are not aware of the sample weights, like min_samples_leaf.\n",
    "* If the samples are weighted, it will be easier to optimize the tree structure using weight-based pre-pruning criterion such as min_weight_fraction_leaf, which ensure that leaf nodes contain at least a fraction of the overall sum of the sample weights.\n",
    "* Further steps: PCA, validation (cross-validation?), hyperparameter tuning - is it best to focus on RF method and just perform tuning for this? "
   ]
  },
  {
   "cell_type": "code",
   "execution_count": 26,
   "id": "3b7b1297-90cd-4db5-a475-8b5ab6b2a801",
   "metadata": {},
   "outputs": [],
   "source": [
    "# Define preprocessors\n",
    "numeric_transformer = imbPipeline(steps=[\n",
    "       ('imputer', SimpleImputer(strategy='median')) # The missing values of a numeric feature will be replaced by the 'median'\n",
    "      ,('scaler', StandardScaler())                  # standardises the values\n",
    "])\n",
    "categorical_transformer = imbPipeline(steps=[\n",
    "       ('imputer', SimpleImputer(strategy='most_frequent'))  # The missing values of a categorical feature will be replaced by the mode (most frequent) category.\n",
    "      ,('encoder', OneHotEncoder(drop='first'))         # drop 'first' refers to dropping the first of each category to use as the reference\n",
    "])"
   ]
  },
  {
   "cell_type": "code",
   "execution_count": 27,
   "id": "22d433bd-7670-4d2a-b115-45d331bee9fc",
   "metadata": {},
   "outputs": [],
   "source": [
    "# Prepare numeric and categorical column lists\n",
    "numcols = list(set(columnsetA) - set(catcols)) + columnsetB   # create list of numeric columns\n",
    "numcols.remove('seriousInjuryCount')   # remove the dependent variables  *NOTE: should these just be removed in the cleaning section?\n",
    "numcols.remove('fatalCount')           # remove the dependent variables\n",
    "catcols.remove('crashSeverity')        # remove the dependent variable\n",
    "catcols.remove('crashSeverity_3cat')   # remove the dependent variable\n",
    "\n",
    "catcols_index = [train_x.columns.get_loc(col) for col in catcols]"
   ]
  },
  {
   "cell_type": "code",
   "execution_count": 28,
   "id": "d9a11034-ab29-47d0-bdee-c599a38e0c21",
   "metadata": {},
   "outputs": [],
   "source": [
    "column_preprocessor = ColumnTransformer(\n",
    "    transformers=[\n",
    "        ('numeric', numeric_transformer, numcols),          # tuple that sets out the name, the transformer to use, and the set of columns to include\n",
    "        ('categorical', categorical_transformer, catcols)\n",
    "    ])"
   ]
  },
  {
   "cell_type": "code",
   "execution_count": 29,
   "id": "b7824e7a-1d62-48a1-b9a2-b70a70c23eb5",
   "metadata": {},
   "outputs": [],
   "source": [
    "# Combine preprocessor into pipeline\n",
    "start_time = time.time()\n",
    "\n",
    "pipeline = imbPipeline(steps = [\n",
    "   ('column_preprocessor', column_preprocessor),\n",
    "   ('smote', SMOTENC(catcols_index, random_state=50)),      # Adds oversampling process to Pipeline; HOWEVER NOT WORKING CURRENTLY - WILL FIT MODEL BUT NOT IMPROVE OUTCOME??\n",
    "   ('classifier', RandomForestClassifier(class_weight=\"balanced\"))  # sets RF with default hyperparameters\n",
    "])\n",
    "\n",
    "rf_model = pipeline.fit(train_x, train_y)\n",
    "\n",
    "elapsed_time = time.time() - start_time\n",
    "print(f\"Elapsed time to compute the hyperparameter tuning: {round((elapsed_time)/60,2)} minutes\")"
   ]
  },
  {
   "cell_type": "code",
   "execution_count": 33,
   "id": "c9b0128f-b77b-4260-a9c6-89d7e4e8f0d8",
   "metadata": {},
   "outputs": [
    {
     "name": "stdout",
     "output_type": "stream",
     "text": [
      "Training score: 0.9959787935562519\n",
      "Test score: 0.9223415352518869\n"
     ]
    }
   ],
   "source": [
    "# Evaluate random forest model\n",
    "print(f\"Training score: {rf_model.score(train_x, train_y)}\")\n",
    "print(f\"Test score: {rf_model.score(test_x, test_y)}\")"
   ]
  },
  {
   "cell_type": "markdown",
   "id": "9b572e22-1b7e-4a5a-8caa-037ee44d66a3",
   "metadata": {},
   "source": [
    "**TO BE CONFIRMED**\n",
    "The cell below is designed to compare a default RF with an RF with balanced class weights. However, the results in 'Balanced testing accuracy' do not show as much change as expected - why is this? (In the original tests of default RF run on its own, was producing a balanced accuracy around ~0.5). Need to decide whether it is worth keeping this in, or instead just keeping the original model fit above.   \n",
    "Also overlaps with the section below 'Evaluating performance'."
   ]
  },
  {
   "cell_type": "code",
   "execution_count": 76,
   "id": "6c98b433-5739-4793-b6ab-a07f40c5c6ac",
   "metadata": {},
   "outputs": [],
   "source": [
    "# Compare multiple model variations in a single method\n",
    "# classifiers = {\n",
    "#     'RF': RandomForestClassifier(),\n",
    "#     'RF_balanced': RandomForestClassifier(class_weight=\"balanced\")\n",
    "# }\n",
    "\n",
    "# # a dict to store the evaluation output of training and testing data\n",
    "# dict_results = dict()\n",
    "\n",
    "# for name, classifier in classifiers.items():\n",
    "#     pipeline = Pipeline(steps = [\n",
    "#                ('preprocessor', preprocessor)\n",
    "#               ,('classifier', classifier)\n",
    "#            ])\n",
    "#     model = pipeline.fit(train_x, train_y)\n",
    "    \n",
    "#     y_predict = model.predict(test_x)\n",
    "#     y_predict_train = model.predict(train_x)\n",
    "    \n",
    "#     # predictions = model.predict(test_x)\n",
    "#     dict_results[name] = [model.score(train_x, train_y),   # accuracy score of training data\n",
    "#                           model.score(test_x, test_y),     # accuracy score of test data\n",
    "#                           balanced_accuracy_score(train_y, y_predict_train),  # balanced accuracy \n",
    "#                           balanced_accuracy_score(test_y, y_predict),  # balanced accuracy \n",
    "#                          ]\n",
    "\n",
    "# # transform dict_models to dataframe\n",
    "# df_models = pd.DataFrame.from_dict(dict_results, orient='index', columns=['Training accuracy', 'Testing accuracy', 'Balanced training accuracy', 'Balanced testing accuracy'])\n",
    "# df_models"
   ]
  },
  {
   "cell_type": "markdown",
   "id": "2be9b87d-c61a-404a-8e05-0602cfc02127",
   "metadata": {},
   "source": [
    "#### Hyperparameter tuning\n",
    "The following method finds the optimal values for RF hyperparameters, from the specified set. For this model, the best performing set used a max tree depth of 50 and a minimum leaf sample of 2.   \n",
    "\n",
    "**NOTE:** The tuning cell takes approximately 40 minutes to run. Therefore, has been default set to not run, unless explicitly called by setting `run_tuning` to True."
   ]
  },
  {
   "cell_type": "code",
   "execution_count": 2,
   "id": "b913da53-341d-490d-b87d-a48b01063184",
   "metadata": {},
   "outputs": [],
   "source": [
    "# Set the below to 'True' to run the hyperparameter tuning cell\n",
    "run_tuning = False"
   ]
  },
  {
   "cell_type": "code",
   "execution_count": 4,
   "id": "38ac119d-b2ed-4263-adf4-d1d83aad1765",
   "metadata": {},
   "outputs": [
    {
     "name": "stdout",
     "output_type": "stream",
     "text": [
      "Hyperparameter tuning not run.\n"
     ]
    }
   ],
   "source": [
    "if run_tuning == True:\n",
    "    start_time = time.time()\n",
    "    \n",
    "    # we fix the random_state in DecisionTreeClassifier() so that the result of GridSearchCV is the same in different runs\n",
    "    pipeline = Pipeline(steps = [\n",
    "        ('preprocessor', preprocessor),\n",
    "        ('classifier', RandomForestClassifier(class_weight=\"balanced\", random_state=50))  # sets RF with default hyperparameters\n",
    "    ])\n",
    "    \n",
    "    pipeline.fit(train_x, train_y)\n",
    "    \n",
    "    # grid_params is the range of each hyperparameter\n",
    "    grid_params = {  \n",
    "        'classifier__max_depth': [10,20,50],   \n",
    "        'classifier__min_samples_split': [2,4,8]   \n",
    "    }\n",
    "    search = GridSearchCV(pipeline, \n",
    "                      grid_params, \n",
    "                      verbose=2)    # controls the message output; v=2 computation time for each fold and parameter candidate are displayed\n",
    "    search.fit(train_x, train_y)\n",
    "    print(\"Best Score: \", search.best_score_)\n",
    "    print(\"Best Params: \", search.best_params_)\n",
    "    \n",
    "    elapsed_time = time.time() - start_time\n",
    "    print(f\"Elapsed time to compute the hyperparameter tuning: {round((elapsed_time)/60,2)} minutes\")\n",
    "    \n",
    "else:\n",
    "    print(\"Hyperparameter tuning not run.\")"
   ]
  },
  {
   "cell_type": "markdown",
   "id": "f35ce86d-605e-4ec6-8099-41ad0af77799",
   "metadata": {},
   "source": [
    "#### Evaluating performance\n",
    "The `balanced_accuracy_score` function computes the balanced accuracy, which avoids inflated performance estimates on imbalanced datasets."
   ]
  },
  {
   "cell_type": "code",
   "execution_count": 34,
   "id": "766e34cc-986a-4b53-8b2e-f9fc0c06e8db",
   "metadata": {},
   "outputs": [],
   "source": [
    "y_predict = rf_model.predict(test_x)\n",
    "y_true = test_y"
   ]
  },
  {
   "cell_type": "code",
   "execution_count": 35,
   "id": "40d2afa4-fe2b-4c1d-9946-9a5983daaa82",
   "metadata": {},
   "outputs": [
    {
     "name": "stdout",
     "output_type": "stream",
     "text": [
      "                     precision    recall  f1-score   support\n",
      "\n",
      "        Minor Crash       0.92      1.00      0.95     18267\n",
      "   Non-Injury Crash       0.94      0.98      0.96     57136\n",
      "Serious/Fatal Crash       0.43      0.13      0.21      6082\n",
      "\n",
      "           accuracy                           0.92     81485\n",
      "          macro avg       0.76      0.70      0.71     81485\n",
      "       weighted avg       0.90      0.92      0.90     81485\n",
      "\n"
     ]
    }
   ],
   "source": [
    "print(classification_report(y_true, y_predict))"
   ]
  },
  {
   "cell_type": "markdown",
   "id": "bef0382b-60be-468d-ad43-2a4a818dd9b6",
   "metadata": {},
   "source": [
    "\"Precision is the ability of the classifier not to label as positive a sample that is negative, and recall is the ability of the classifier to find all the positive samples. The reported averages include macro average (averaging the unweighted mean per label), weighted average (averaging the support-weighted mean per label). The F-measure can be interpreted as a weighted harmonic mean of the precision and recall. A F measure reaches its best value at 1 and its worst score at 0. For an F1 measure, and the recall and the precision are equally important.\" [Source](https://scikit-learn.org/stable/modules/model_evaluation.html#classification-report)"
   ]
  },
  {
   "cell_type": "code",
   "execution_count": 36,
   "id": "39b2ae7b-94e0-40fd-a193-942bbb35d129",
   "metadata": {},
   "outputs": [
    {
     "name": "stdout",
     "output_type": "stream",
     "text": [
      "The accuracy score is: 0.922\n",
      "The balanced accuracy score is: 0.705\n"
     ]
    }
   ],
   "source": [
    "print(f\"The accuracy score is: {round(accuracy_score(y_true, y_predict),3)}\")\n",
    "print(f\"The balanced accuracy score is: {round(balanced_accuracy_score(y_true, y_predict),3)}\")"
   ]
  },
  {
   "cell_type": "markdown",
   "id": "06a46a60-9741-4c4b-9e20-b999a893be1d",
   "metadata": {},
   "source": [
    "Balanced accuracy score takes the average accuracy of each class, to account for evaluating imbalanced datasets (such as this one). The large disparity in estimates indicates that the raw accuracy is inflated due to the class imbalance, and that the model should incorporate weighting to address class imbalance and provide more robust estimates across all severity classes. "
   ]
  },
  {
   "cell_type": "markdown",
   "id": "b20d11da-7818-4119-8594-7745ff7f567b",
   "metadata": {},
   "source": [
    "#### Interpreting feature importance\n",
    "\n",
    "Permutation feature importance (PFI) method. \"Permutation feature importance overcomes limitations of the impurity-based feature importance: they do not have a bias toward high-cardinality features and can be computed on a left-out test set.\" [sklearn](https://scikit-learn.org/stable/auto_examples/ensemble/plot_forest_importances.html#sphx-glr-auto-examples-ensemble-plot-forest-importances-py)"
   ]
  },
  {
   "cell_type": "code",
   "execution_count": 30,
   "id": "d6bc79d1-a0f8-43b6-b2fb-ca8f0003d8d7",
   "metadata": {},
   "outputs": [
    {
     "name": "stderr",
     "output_type": "stream",
     "text": [
      "/opt/conda/lib/python3.10/site-packages/joblib/externals/loky/process_executor.py:702: UserWarning: A worker stopped while some jobs were given to the executor. This can be caused by a too short worker timeout or by a memory leak.\n",
      "  warnings.warn(\n"
     ]
    },
    {
     "name": "stdout",
     "output_type": "stream",
     "text": [
      "Elapsed time to compute the importances: 2822.864 seconds\n"
     ]
    },
    {
     "ename": "NameError",
     "evalue": "name 'feature_names' is not defined",
     "output_type": "error",
     "traceback": [
      "\u001b[0;31m---------------------------------------------------------------------------\u001b[0m",
      "\u001b[0;31mNameError\u001b[0m                                 Traceback (most recent call last)",
      "Input \u001b[0;32mIn [30]\u001b[0m, in \u001b[0;36m<cell line: 8>\u001b[0;34m()\u001b[0m\n\u001b[1;32m      5\u001b[0m elapsed_time \u001b[38;5;241m=\u001b[39m time\u001b[38;5;241m.\u001b[39mtime() \u001b[38;5;241m-\u001b[39m start_time\n\u001b[1;32m      6\u001b[0m \u001b[38;5;28mprint\u001b[39m(\u001b[38;5;124mf\u001b[39m\u001b[38;5;124m\"\u001b[39m\u001b[38;5;124mElapsed time to compute the importances: \u001b[39m\u001b[38;5;132;01m{\u001b[39;00melapsed_time\u001b[38;5;132;01m:\u001b[39;00m\u001b[38;5;124m.3f\u001b[39m\u001b[38;5;132;01m}\u001b[39;00m\u001b[38;5;124m seconds\u001b[39m\u001b[38;5;124m\"\u001b[39m)\n\u001b[0;32m----> 8\u001b[0m forest_importances \u001b[38;5;241m=\u001b[39m pd\u001b[38;5;241m.\u001b[39mSeries(result\u001b[38;5;241m.\u001b[39mimportances_mean, index\u001b[38;5;241m=\u001b[39m\u001b[43mfeature_names\u001b[49m)\n",
      "\u001b[0;31mNameError\u001b[0m: name 'feature_names' is not defined"
     ]
    }
   ],
   "source": [
    "start_time = time.time()\n",
    "result = permutation_importance(\n",
    "    rf_model, test_x, test_y, n_repeats=10, random_state=42, n_jobs=2\n",
    ")\n",
    "elapsed_time = time.time() - start_time\n",
    "print(f\"Elapsed time to compute the importances: {elapsed_time:.3f} seconds\")\n",
    "\n",
    "forest_importances = pd.Series(result.importances_mean, index=feature_names)\n",
    "\n",
    "# NOTE: Produces long runtime and error:\n",
    "# /opt/conda/lib/python3.10/site-packages/joblib/externals/loky/process_executor.py:702: UserWarning: A worker stopped while some jobs were given to the executor. \n",
    "# This can be caused by a too short worker timeout or by a memory leak.\n",
    "#   warnings.warn("
   ]
  },
  {
   "cell_type": "code",
   "execution_count": null,
   "id": "7e73c656-b781-4c57-b19f-1e3b123e774a",
   "metadata": {},
   "outputs": [],
   "source": [
    "# print(forest_importances)"
   ]
  },
  {
   "cell_type": "markdown",
   "id": "1d2edaa1-8183-4075-85e4-262622a6cd89",
   "metadata": {},
   "source": [
    "## 4. Discussion\n",
    "\n",
    "Text ...\n"
   ]
  },
  {
   "cell_type": "markdown",
   "id": "a244de40-003f-46d8-a23d-e7d7d97946d9",
   "metadata": {},
   "source": [
    "## 5. Conclusion\n",
    "\n",
    "Text ...\n"
   ]
  },
  {
   "cell_type": "markdown",
   "id": "75919e60-26c6-4110-b8f2-975ece97fe68",
   "metadata": {},
   "source": [
    "## References\n",
    "\n",
    "1. Breiman, L. (2001) ‘Random Forests’, *Machine Learning*, 45(1), pp. 5–32. Available at: https://doi.org/10.1023/A:1010933404324.\n"
   ]
  }
 ],
 "metadata": {
  "kernelspec": {
   "display_name": "Python 3 (ipykernel)",
   "language": "python",
   "name": "python3"
  },
  "language_info": {
   "codemirror_mode": {
    "name": "ipython",
    "version": 3
   },
   "file_extension": ".py",
   "mimetype": "text/x-python",
   "name": "python",
   "nbconvert_exporter": "python",
   "pygments_lexer": "ipython3",
   "version": "3.10.5"
  },
  "toc-autonumbering": false,
  "toc-showtags": false
 },
 "nbformat": 4,
 "nbformat_minor": 5
}
