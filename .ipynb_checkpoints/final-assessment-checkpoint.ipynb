{
 "cells": [
  {
   "cell_type": "markdown",
   "id": "b7886474-d3d3-486d-a004-ee54fdef45eb",
   "metadata": {},
   "source": [
    "# CASA0006 DSSS: Final Assessment\n",
    "\n",
    "**Author:** Joe Post  \n",
    "**Student Number:** 22186870  \n",
    "**Date:** April 2023  \n",
    "\n",
    "**[Github repository](https://github.com/joepost/casa0006_assessment)**  \n",
    "\n",
    "---"
   ]
  },
  {
   "cell_type": "markdown",
   "id": "fea23a35-2678-4642-8817-0a44e292f64e",
   "metadata": {},
   "source": [
    "# Predicting crash severity using New Zealand transport data\n",
    "\n",
    "**Abstract:** This notebook ...\n",
    "\n",
    "## 1. Introduction\n",
    "\n",
    "### 1.1 Background \n",
    "\n",
    "Text ...\n",
    "\n",
    "### 1.2 Literature Review\n",
    "\n",
    "Text ...\n"
   ]
  },
  {
   "cell_type": "markdown",
   "id": "325dbea5-0913-4b8b-a1fe-20b0737cb3f3",
   "metadata": {
    "tags": []
   },
   "source": [
    "## 3. Data Analysis\n",
    "\n",
    "### 3.1 Setup\n",
    "To conduct the analysis, the below packages need to be imported."
   ]
  },
  {
   "cell_type": "code",
   "execution_count": 1,
   "id": "b5b5c266-e8ed-43ed-a2cc-ddbb1b3c4083",
   "metadata": {},
   "outputs": [],
   "source": [
    "import numpy as np\n",
    "import pandas as pd\n",
    "import geopandas as gpd\n",
    "import pysal as ps\n",
    "import seaborn as sns\n",
    "import matplotlib.pyplot as plt\n",
    "import plotly.express as px\n",
    "\n",
    "import sklearn\n",
    "from sklearn.model_selection import train_test_split, GridSearchCV, validation_curve\n",
    "from sklearn.metrics import mean_squared_error, r2_score\n",
    "from sklearn.neighbors import NearestNeighbors\n",
    "from sklearn.cluster import KMeans, DBSCAN, OPTICS, AgglomerativeClustering\n",
    "\n",
    "# preprocessors\n",
    "from sklearn.preprocessing import StandardScaler, OneHotEncoder\n",
    "from sklearn.impute import SimpleImputer\n",
    "from sklearn.compose import ColumnTransformer\n",
    "\n",
    "# pipeline\n",
    "from sklearn.pipeline import Pipeline\n",
    "\n",
    "# linear regression\n",
    "from sklearn.linear_model import LinearRegression\n",
    "\n",
    "# CART\n",
    "from sklearn.tree import DecisionTreeRegressor\n",
    "\n",
    "# random forest\n",
    "from sklearn.ensemble import RandomForestRegressor\n",
    "\n",
    "# xgboost\n",
    "import xgboost\n",
    "from xgboost import XGBRegressor\n",
    "\n",
    "pd.set_option('display.max_rows', 300) # specifies number of rows to show\n",
    "pd.options.display.float_format = '{:40,.4f}'.format # specifies default number format to 4 decimal places\n",
    "plt.style.use('ggplot') # specifies that graphs should use ggplot styling\n",
    "%matplotlib inline"
   ]
  },
  {
   "cell_type": "markdown",
   "id": "29f3fede-e952-4c74-a85c-ce85220048cf",
   "metadata": {},
   "source": [
    "### 3.2 Data cleaning\n",
    "The CSV file is read in as a pandas data frame, and columns changed to the appropriate data types."
   ]
  },
  {
   "cell_type": "code",
   "execution_count": 2,
   "id": "f5c8442a-3945-4a22-ba85-8a0a61add0d2",
   "metadata": {
    "tags": []
   },
   "outputs": [
    {
     "data": {
      "text/plain": [
       "(807933, 72)"
      ]
     },
     "execution_count": 2,
     "metadata": {},
     "output_type": "execute_result"
    }
   ],
   "source": [
    "# Read in data\n",
    "df = pd.read_csv(\"data/Crash_Analysis_System_CAS_data.csv\", na_values = \"Null\")\n",
    "df.shape"
   ]
  },
  {
   "cell_type": "markdown",
   "id": "f1035561-bce5-4677-984d-c5a96685edeb",
   "metadata": {},
   "source": [
    "The table below shows the default data type of imported columns, and a count of non-null values for each column. There are 807,933 observations (rows) in the dataset, and 72 features (columns).  "
   ]
  },
  {
   "cell_type": "code",
   "execution_count": 3,
   "id": "8badab68-06af-4cbc-ba99-83f58c582ba8",
   "metadata": {},
   "outputs": [
    {
     "name": "stdout",
     "output_type": "stream",
     "text": [
      "<class 'pandas.core.frame.DataFrame'>\n",
      "RangeIndex: 807933 entries, 0 to 807932\n",
      "Data columns (total 72 columns):\n",
      " #   Column                     Non-Null Count   Dtype  \n",
      "---  ------                     --------------   -----  \n",
      " 0   X                          807933 non-null  float64\n",
      " 1   Y                          807933 non-null  float64\n",
      " 2   OBJECTID                   807933 non-null  int64  \n",
      " 3   advisorySpeed              30681 non-null   float64\n",
      " 4   areaUnitID                 807883 non-null  float64\n",
      " 5   bicycle                    807928 non-null  float64\n",
      " 6   bridge                     325939 non-null  float64\n",
      " 7   bus                        807928 non-null  float64\n",
      " 8   carStationWagon            807928 non-null  float64\n",
      " 9   cliffBank                  325939 non-null  float64\n",
      " 10  crashDirectionDescription  503841 non-null  object \n",
      " 11  crashFinancialYear         807933 non-null  object \n",
      " 12  crashLocation1             807933 non-null  object \n",
      " 13  crashLocation2             806799 non-null  object \n",
      " 14  crashRoadSideRoad          0 non-null       float64\n",
      " 15  crashSeverity              807933 non-null  object \n",
      " 16  crashSHDescription         807933 non-null  object \n",
      " 17  crashYear                  807933 non-null  int64  \n",
      " 18  debris                     325939 non-null  float64\n",
      " 19  directionRoleDescription   804410 non-null  object \n",
      " 20  ditch                      325939 non-null  float64\n",
      " 21  fatalCount                 807932 non-null  float64\n",
      " 22  fence                      325939 non-null  float64\n",
      " 23  flatHill                   801725 non-null  object \n",
      " 24  guardRail                  325939 non-null  float64\n",
      " 25  holiday                    44204 non-null   object \n",
      " 26  houseOrBuilding            325939 non-null  float64\n",
      " 27  intersection               0 non-null       float64\n",
      " 28  kerb                       325939 non-null  float64\n",
      " 29  light                      807933 non-null  object \n",
      " 30  meshblockId                807883 non-null  float64\n",
      " 31  minorInjuryCount           807932 non-null  float64\n",
      " 32  moped                      807928 non-null  float64\n",
      " 33  motorcycle                 807928 non-null  float64\n",
      " 34  NumberOfLanes              806220 non-null  float64\n",
      " 35  objectThrownOrDropped      325939 non-null  float64\n",
      " 36  otherObject                325939 non-null  float64\n",
      " 37  otherVehicleType           807928 non-null  float64\n",
      " 38  overBank                   325939 non-null  float64\n",
      " 39  parkedVehicle              325939 non-null  float64\n",
      " 40  pedestrian                 25977 non-null   float64\n",
      " 41  phoneBoxEtc                325939 non-null  float64\n",
      " 42  postOrPole                 325939 non-null  float64\n",
      " 43  region                     804849 non-null  object \n",
      " 44  roadCharacter              807933 non-null  object \n",
      " 45  roadLane                   807432 non-null  object \n",
      " 46  roadSurface                806966 non-null  object \n",
      " 47  roadworks                  325939 non-null  float64\n",
      " 48  schoolBus                  807928 non-null  float64\n",
      " 49  seriousInjuryCount         807932 non-null  float64\n",
      " 50  slipOrFlood                325939 non-null  float64\n",
      " 51  speedLimit                 807183 non-null  float64\n",
      " 52  strayAnimal                325939 non-null  float64\n",
      " 53  streetLight                509295 non-null  object \n",
      " 54  suv                        807928 non-null  float64\n",
      " 55  taxi                       807928 non-null  float64\n",
      " 56  temporarySpeedLimit        12117 non-null   float64\n",
      " 57  tlaId                      804849 non-null  float64\n",
      " 58  tlaName                    804849 non-null  object \n",
      " 59  trafficControl             807933 non-null  object \n",
      " 60  trafficIsland              325939 non-null  float64\n",
      " 61  trafficSign                325939 non-null  float64\n",
      " 62  train                      325939 non-null  float64\n",
      " 63  tree                       325939 non-null  float64\n",
      " 64  truck                      807928 non-null  float64\n",
      " 65  unknownVehicleType         807928 non-null  float64\n",
      " 66  urban                      807933 non-null  object \n",
      " 67  vanOrUtility               807928 non-null  float64\n",
      " 68  vehicle                    325939 non-null  float64\n",
      " 69  waterRiver                 325939 non-null  float64\n",
      " 70  weatherA                   792307 non-null  object \n",
      " 71  weatherB                   23086 non-null   object \n",
      "dtypes: float64(50), int64(2), object(20)\n",
      "memory usage: 443.8+ MB\n"
     ]
    }
   ],
   "source": [
    "# df.dtypes\n",
    "df.info()"
   ]
  },
  {
   "cell_type": "markdown",
   "id": "ee6a0f93-7dd2-41fc-8e0a-8ad81ba6a8dd",
   "metadata": {},
   "source": [
    "Of these, 7 have a very high proportion of missing data (>90% of observations) - they are `advisorySpeed`, `crashRoadSideRoad`, `holiday`, `intersection`, `pedestrian`, `temporarySpeedLimit`, and `weatherB`. Through background reading of the [metadata](https://opendata-nzta.opendata.arcgis.com/pages/cas-data-field-descriptions), and investigation of the data, it can be seen that these columns contain a mix of true missing data and incorrectly coded real data. For example, `pedestrian` is defined as a \"\\[d\\]erived variable to indicate how many pedestrians were involved in the crash. This includes pedestrians on skateboards, scooters and wheelchairs.\" However, non-missing values for `pedestrian` range from \\[1,6\\], meaning that no crash events have a value of '0' recorded. It is reasonable to assume that crashes with a null value for `pedestrian` actually represent events where no pedestrians were involved, as opposed to events where the number of pedestrians involved were not known or not recorded. Similarly, `holiday` only records an entry if the event falls into one of the four categories of Christmas/New Year, Easter, Labour Weekend, or Queens Birthday. Missing data in this column therefore likely represent events that occurred outside of these holiday dates. For `temporarySpeedLimit` and `advisorySpeed`, missing data represents a true absence - in these cases, no temporary or advisory speed limit was in effect at the time and location of the crash event. \n",
    "\n",
    "However, the columns `crashRoadSideRoad` and `intersection` are missing all data, and these were removed from the analysis. For `weatherB`, the observed possible values of 'Strong Wind', 'Frost', 'None' or missing do not align with the metadata description (where values are stated as 'Strong Wind', 'Frost' or 'Unknown'). Due to the ambiguity between 'None' and missing data, this column has been removed. "
   ]
  },
  {
   "cell_type": "code",
   "execution_count": 4,
   "id": "2e54b411-bf6b-4677-a4da-6bb7b91fee7f",
   "metadata": {},
   "outputs": [
    {
     "data": {
      "text/html": [
       "<div>\n",
       "<style scoped>\n",
       "    .dataframe tbody tr th:only-of-type {\n",
       "        vertical-align: middle;\n",
       "    }\n",
       "\n",
       "    .dataframe tbody tr th {\n",
       "        vertical-align: top;\n",
       "    }\n",
       "\n",
       "    .dataframe thead th {\n",
       "        text-align: right;\n",
       "    }\n",
       "</style>\n",
       "<table border=\"1\" class=\"dataframe\">\n",
       "  <thead>\n",
       "    <tr style=\"text-align: right;\">\n",
       "      <th></th>\n",
       "      <th>pedestrian</th>\n",
       "      <th>advisorySpeed</th>\n",
       "      <th>crashRoadSideRoad</th>\n",
       "      <th>intersection</th>\n",
       "      <th>temporarySpeedLimit</th>\n",
       "    </tr>\n",
       "  </thead>\n",
       "  <tbody>\n",
       "    <tr>\n",
       "      <th>count</th>\n",
       "      <td>25,977.0000</td>\n",
       "      <td>30,681.0000</td>\n",
       "      <td>0.0000</td>\n",
       "      <td>0.0000</td>\n",
       "      <td>12,117.0000</td>\n",
       "    </tr>\n",
       "    <tr>\n",
       "      <th>mean</th>\n",
       "      <td>1.0398</td>\n",
       "      <td>54.4392</td>\n",
       "      <td>NaN</td>\n",
       "      <td>NaN</td>\n",
       "      <td>45.7801</td>\n",
       "    </tr>\n",
       "    <tr>\n",
       "      <th>std</th>\n",
       "      <td>0.2309</td>\n",
       "      <td>18.1763</td>\n",
       "      <td>NaN</td>\n",
       "      <td>NaN</td>\n",
       "      <td>19.0041</td>\n",
       "    </tr>\n",
       "    <tr>\n",
       "      <th>min</th>\n",
       "      <td>1.0000</td>\n",
       "      <td>10.0000</td>\n",
       "      <td>NaN</td>\n",
       "      <td>NaN</td>\n",
       "      <td>8.0000</td>\n",
       "    </tr>\n",
       "    <tr>\n",
       "      <th>25%</th>\n",
       "      <td>1.0000</td>\n",
       "      <td>40.0000</td>\n",
       "      <td>NaN</td>\n",
       "      <td>NaN</td>\n",
       "      <td>30.0000</td>\n",
       "    </tr>\n",
       "    <tr>\n",
       "      <th>50%</th>\n",
       "      <td>1.0000</td>\n",
       "      <td>55.0000</td>\n",
       "      <td>NaN</td>\n",
       "      <td>NaN</td>\n",
       "      <td>40.0000</td>\n",
       "    </tr>\n",
       "    <tr>\n",
       "      <th>75%</th>\n",
       "      <td>1.0000</td>\n",
       "      <td>65.0000</td>\n",
       "      <td>NaN</td>\n",
       "      <td>NaN</td>\n",
       "      <td>60.0000</td>\n",
       "    </tr>\n",
       "    <tr>\n",
       "      <th>max</th>\n",
       "      <td>6.0000</td>\n",
       "      <td>95.0000</td>\n",
       "      <td>NaN</td>\n",
       "      <td>NaN</td>\n",
       "      <td>100.0000</td>\n",
       "    </tr>\n",
       "  </tbody>\n",
       "</table>\n",
       "</div>"
      ],
      "text/plain": [
       "                                    pedestrian  \\\n",
       "count                              25,977.0000   \n",
       "mean                                    1.0398   \n",
       "std                                     0.2309   \n",
       "min                                     1.0000   \n",
       "25%                                     1.0000   \n",
       "50%                                     1.0000   \n",
       "75%                                     1.0000   \n",
       "max                                     6.0000   \n",
       "\n",
       "                                 advisorySpeed  \\\n",
       "count                              30,681.0000   \n",
       "mean                                   54.4392   \n",
       "std                                    18.1763   \n",
       "min                                    10.0000   \n",
       "25%                                    40.0000   \n",
       "50%                                    55.0000   \n",
       "75%                                    65.0000   \n",
       "max                                    95.0000   \n",
       "\n",
       "                             crashRoadSideRoad  \\\n",
       "count                                   0.0000   \n",
       "mean                                       NaN   \n",
       "std                                        NaN   \n",
       "min                                        NaN   \n",
       "25%                                        NaN   \n",
       "50%                                        NaN   \n",
       "75%                                        NaN   \n",
       "max                                        NaN   \n",
       "\n",
       "                                  intersection  \\\n",
       "count                                   0.0000   \n",
       "mean                                       NaN   \n",
       "std                                        NaN   \n",
       "min                                        NaN   \n",
       "25%                                        NaN   \n",
       "50%                                        NaN   \n",
       "75%                                        NaN   \n",
       "max                                        NaN   \n",
       "\n",
       "                           temporarySpeedLimit  \n",
       "count                              12,117.0000  \n",
       "mean                                   45.7801  \n",
       "std                                    19.0041  \n",
       "min                                     8.0000  \n",
       "25%                                    30.0000  \n",
       "50%                                    40.0000  \n",
       "75%                                    60.0000  \n",
       "max                                   100.0000  "
      ]
     },
     "execution_count": 4,
     "metadata": {},
     "output_type": "execute_result"
    }
   ],
   "source": [
    "checkmissing = df[[\"pedestrian\", \"advisorySpeed\", \n",
    "                   # \"holiday\", \"weatherB\",        #commented out as these are non-numeric columns; see cells below\n",
    "                   \"crashRoadSideRoad\", \"intersection\", \"temporarySpeedLimit\"]]\n",
    "checkmissing.describe()"
   ]
  },
  {
   "cell_type": "code",
   "execution_count": 5,
   "id": "fd7d643a-d574-41df-9618-ba18ffb5a98b",
   "metadata": {},
   "outputs": [
    {
     "data": {
      "text/plain": [
       "array([nan, 'Easter', 'Christmas New Year', 'Labour Weekend',\n",
       "       'Queens Birthday'], dtype=object)"
      ]
     },
     "execution_count": 5,
     "metadata": {},
     "output_type": "execute_result"
    }
   ],
   "source": [
    "df['holiday'].unique()"
   ]
  },
  {
   "cell_type": "code",
   "execution_count": 6,
   "id": "c7611dd7-294c-4d21-a66e-a4ac832dd5c3",
   "metadata": {},
   "outputs": [
    {
     "data": {
      "text/plain": [
       "array([nan, 'Strong wind', 'Frost', 'None'], dtype=object)"
      ]
     },
     "execution_count": 6,
     "metadata": {},
     "output_type": "execute_result"
    }
   ],
   "source": [
    "df['weatherB'].unique()"
   ]
  },
  {
   "cell_type": "markdown",
   "id": "f26e9f8a-cee0-4d07-af4b-fb7328156e2f",
   "metadata": {},
   "source": [
    "A second subset of 23 columns have a non-null count of 325,939, meaning they are missing data for approximately 60% of observations. These are `bridge`, `cliffBank`, `debris`, `ditch`, `fence`, `guardRail`, `houseOrBuilding`, `kerb`, `objectThrownOrDropped`, `otherObject`, `overBank`, `parkedVehicle`, `phoneBoxEtc`, `postOrPole`, `roadworks`, `slipOrFlood`, `strayAnimal`, `trafficIsland`, `trafficSign`, `train`, `tree`, `vehicle`, and `waterRiver`."
   ]
  },
  {
   "cell_type": "code",
   "execution_count": 7,
   "id": "b7d31ed2-5bfc-4467-ac69-f50a49110774",
   "metadata": {},
   "outputs": [],
   "source": [
    "# Set up list of columns with low/no missing data\n",
    "columnsetA = df[['X', 'Y', 'OBJECTID', 'areaUnitID', 'bicycle', 'bus', 'carStationWagon',\n",
    "       'crashDirectionDescription', 'crashFinancialYear', 'crashLocation1', 'crashLocation2', \n",
    "       'crashSeverity', 'crashSHDescription', 'crashYear', \n",
    "       'directionRoleDescription', 'fatalCount', 'flatHill', 'light', 'meshblockId',\n",
    "       'minorInjuryCount', 'moped', 'motorcycle', 'NumberOfLanes',\n",
    "       'otherVehicleType', 'pedestrian', 'region',\n",
    "       'roadCharacter', 'roadLane', 'roadSurface', 'schoolBus',\n",
    "       'seriousInjuryCount', 'speedLimit', 'streetLight', 'suv', 'taxi', 'tlaId', 'tlaName',\n",
    "       'trafficControl', 'truck', 'unknownVehicleType', 'urban', 'vanOrUtility', 'weatherA', 'weatherB']]\n",
    "\n",
    "# Set up list of columns with 60% missing data\n",
    "columnsetB = df[['bridge', 'cliffBank', 'debris', 'ditch', 'fence', 'guardRail',\n",
    "       'houseOrBuilding', 'kerb', 'objectThrownOrDropped', 'otherObject', 'overBank',\n",
    "       'parkedVehicle', 'phoneBoxEtc', 'postOrPole', 'roadworks', 'slipOrFlood', 'strayAnimal',\n",
    "       'streetLight', 'suv', 'taxi', 'temporarySpeedLimit', 'tlaId', 'tlaName',\n",
    "       'trafficIsland', 'trafficSign', 'train', 'tree','vehicle','waterRiver']]"
   ]
  },
  {
   "cell_type": "markdown",
   "id": "12f4fe5e-c5a1-49cb-9290-39c0f691fa4d",
   "metadata": {
    "tags": []
   },
   "source": [
    "Several columns in the dataset represent categorical data, where the input has been coded to one value out of a specific set - for example, the local government region where the crash occurred. Categorical columns in the dataframe are set accordingly, and the levels for each category checked to ensure it matches the metadata provided.  \n",
    "\n",
    "The following columns are converted to categories:  \n",
    "* `region`\n",
    "* `crashDirectionDescription`\n",
    "* `crashSeverity`\n",
    "* `crashSHDescription`\n",
    "* `directionRoleDescription`\n",
    "* `flatHill`\n",
    "* `holiday`\n",
    "* `light`\n",
    "* `roadCharacter`\n",
    "* `roadLane`\n",
    "* `roadSurface`\n",
    "* `urban`\n",
    "* `weatherA`\n",
    "* `weatherB`"
   ]
  },
  {
   "cell_type": "code",
   "execution_count": 8,
   "id": "47bbab8f-ed2e-40e2-b2af-029386f92659",
   "metadata": {},
   "outputs": [
    {
     "data": {
      "text/html": [
       "<div>\n",
       "<style scoped>\n",
       "    .dataframe tbody tr th:only-of-type {\n",
       "        vertical-align: middle;\n",
       "    }\n",
       "\n",
       "    .dataframe tbody tr th {\n",
       "        vertical-align: top;\n",
       "    }\n",
       "\n",
       "    .dataframe thead th {\n",
       "        text-align: right;\n",
       "    }\n",
       "</style>\n",
       "<table border=\"1\" class=\"dataframe\">\n",
       "  <thead>\n",
       "    <tr style=\"text-align: right;\">\n",
       "      <th></th>\n",
       "      <th>region</th>\n",
       "      <th>crashDirectionDescription</th>\n",
       "      <th>crashSeverity</th>\n",
       "      <th>crashSHDescription</th>\n",
       "      <th>directionRoleDescription</th>\n",
       "      <th>flatHill</th>\n",
       "      <th>holiday</th>\n",
       "      <th>light</th>\n",
       "      <th>roadCharacter</th>\n",
       "      <th>roadLane</th>\n",
       "      <th>roadSurface</th>\n",
       "      <th>urban</th>\n",
       "      <th>weatherA</th>\n",
       "      <th>weatherB</th>\n",
       "    </tr>\n",
       "  </thead>\n",
       "  <tbody>\n",
       "    <tr>\n",
       "      <th>count</th>\n",
       "      <td>804849</td>\n",
       "      <td>503841</td>\n",
       "      <td>807933</td>\n",
       "      <td>807933</td>\n",
       "      <td>804410</td>\n",
       "      <td>801725</td>\n",
       "      <td>44204</td>\n",
       "      <td>807933</td>\n",
       "      <td>807933</td>\n",
       "      <td>807432</td>\n",
       "      <td>806966</td>\n",
       "      <td>807933</td>\n",
       "      <td>792307</td>\n",
       "      <td>23086</td>\n",
       "    </tr>\n",
       "    <tr>\n",
       "      <th>unique</th>\n",
       "      <td>16</td>\n",
       "      <td>4</td>\n",
       "      <td>4</td>\n",
       "      <td>3</td>\n",
       "      <td>4</td>\n",
       "      <td>2</td>\n",
       "      <td>4</td>\n",
       "      <td>5</td>\n",
       "      <td>9</td>\n",
       "      <td>3</td>\n",
       "      <td>3</td>\n",
       "      <td>2</td>\n",
       "      <td>6</td>\n",
       "      <td>3</td>\n",
       "    </tr>\n",
       "    <tr>\n",
       "      <th>top</th>\n",
       "      <td>Auckland Region</td>\n",
       "      <td>South</td>\n",
       "      <td>Non-Injury Crash</td>\n",
       "      <td>No</td>\n",
       "      <td>North</td>\n",
       "      <td>Flat</td>\n",
       "      <td>Christmas New Year</td>\n",
       "      <td>Bright sun</td>\n",
       "      <td>Nil</td>\n",
       "      <td>2-way</td>\n",
       "      <td>Sealed</td>\n",
       "      <td>Urban</td>\n",
       "      <td>Fine</td>\n",
       "      <td>Strong wind</td>\n",
       "    </tr>\n",
       "    <tr>\n",
       "      <th>freq</th>\n",
       "      <td>281105</td>\n",
       "      <td>156074</td>\n",
       "      <td>568285</td>\n",
       "      <td>571264</td>\n",
       "      <td>251397</td>\n",
       "      <td>644500</td>\n",
       "      <td>20116</td>\n",
       "      <td>298786</td>\n",
       "      <td>777090</td>\n",
       "      <td>719869</td>\n",
       "      <td>790765</td>\n",
       "      <td>545720</td>\n",
       "      <td>625422</td>\n",
       "      <td>14000</td>\n",
       "    </tr>\n",
       "  </tbody>\n",
       "</table>\n",
       "</div>"
      ],
      "text/plain": [
       "                 region crashDirectionDescription     crashSeverity  \\\n",
       "count            804849                    503841            807933   \n",
       "unique               16                         4                 4   \n",
       "top     Auckland Region                     South  Non-Injury Crash   \n",
       "freq             281105                    156074            568285   \n",
       "\n",
       "       crashSHDescription directionRoleDescription flatHill  \\\n",
       "count              807933                   804410   801725   \n",
       "unique                  3                        4        2   \n",
       "top                    No                    North     Flat   \n",
       "freq               571264                   251397   644500   \n",
       "\n",
       "                   holiday       light roadCharacter roadLane roadSurface  \\\n",
       "count                44204      807933        807933   807432      806966   \n",
       "unique                   4           5             9        3           3   \n",
       "top     Christmas New Year  Bright sun           Nil    2-way      Sealed   \n",
       "freq                 20116      298786        777090   719869      790765   \n",
       "\n",
       "         urban weatherA     weatherB  \n",
       "count   807933   792307        23086  \n",
       "unique       2        6            3  \n",
       "top      Urban     Fine  Strong wind  \n",
       "freq    545720   625422        14000  "
      ]
     },
     "execution_count": 8,
     "metadata": {},
     "output_type": "execute_result"
    }
   ],
   "source": [
    "# Convert category columns to category type\n",
    "df = df.astype({\n",
    "    \"region\":\"category\",\n",
    "    \"crashDirectionDescription\":\"category\",\n",
    "    \"crashSeverity\":\"category\",\n",
    "    \"crashSHDescription\":\"category\",\n",
    "    \"directionRoleDescription\":\"category\",\n",
    "    \"flatHill\":\"category\",\n",
    "    \"holiday\":\"category\",\n",
    "    \"light\":\"category\",\n",
    "    \"roadCharacter\":\"category\",\n",
    "    \"roadLane\":\"category\",\n",
    "    \"roadSurface\":\"category\",\n",
    "    \"urban\":\"category\",\n",
    "    \"weatherA\":\"category\",\n",
    "    \"weatherB\":\"category\"\n",
    "})\n",
    "\n",
    "catcols = df[[\"region\", \"crashDirectionDescription\", \"crashSeverity\", \"crashSHDescription\", \"directionRoleDescription\", \"flatHill\",\n",
    "    \"holiday\", \"light\", \"roadCharacter\", \"roadLane\", \"roadSurface\", \"urban\", \"weatherA\", \"weatherB\"]]\n",
    "catcols.describe()"
   ]
  },
  {
   "cell_type": "markdown",
   "id": "f872237a-ac0d-4afb-8624-58f7eb776e6e",
   "metadata": {},
   "source": [
    "The pandas dataframe is then converted into a geopandas geodataframe, using the X/Y coordinates provided. These coordinates represent Easting/Northing values in the [NZTM2000](https://www.linz.govt.nz/guidance/geodetic-system/coordinate-systems-used-new-zealand/projections/new-zealand-transverse-mercator-2000-nztm2000) projection, which has the [EPSG code 2193](https://spatialreference.org/ref/epsg/2193/). "
   ]
  },
  {
   "cell_type": "code",
   "execution_count": 28,
   "id": "982fd824-8e25-41f5-9c6b-9150712cad22",
   "metadata": {},
   "outputs": [],
   "source": [
    "gdf = gpd.GeoDataFrame(\n",
    "    df, geometry=gpd.points_from_xy(df.X, df.Y), crs = \"EPSG:2193\") "
   ]
  },
  {
   "cell_type": "code",
   "execution_count": 31,
   "id": "3fe2d69e-2900-46d3-9c23-0bcaedc286cf",
   "metadata": {},
   "outputs": [
    {
     "data": {
      "text/plain": [
       "<AxesSubplot:>"
      ]
     },
     "execution_count": 31,
     "metadata": {},
     "output_type": "execute_result"
    },
    {
     "data": {
      "image/png": "[encoded data removed]",
      "text/plain": [
       "<Figure size 432x288 with 1 Axes>"
      ]
     },
     "metadata": {
      "needs_background": "light"
     },
     "output_type": "display_data"
    }
   ],
   "source": [
    "gdf.plot(marker='*', color='blue', markersize=5)"
   ]
  },
  {
   "cell_type": "markdown",
   "id": "fefc7525-2111-49a7-ac67-cbb5051569e6",
   "metadata": {
    "tags": []
   },
   "source": [
    "### 3.3 Data Standardisation\n",
    "Blah Blah Why is it important to standardise? \n",
    "\n",
    "Standardisation is a necessary pre-step when conducting Principal Components Analysis (see section 3.4 **LINK?**). PCA is designed around data variance; as variance itself is unscaled, variables with large units will have much higher raw variance values than variables with smaller metrics **[ref?](https://scikit-learn.org/stable/auto_examples/preprocessing/plot_scaling_importance.html)** "
   ]
  },
  {
   "cell_type": "markdown",
   "id": "72ba9f97-5281-459d-a4b5-3f9038d5dfb2",
   "metadata": {
    "tags": []
   },
   "source": [
    "### 3.4 Principal Components Analysis (PCA)\n",
    "PCA is a dimensionality reduction method, which is a technique to reduce the number of features under consideration. This has the benefit of reducing computation load and storage space when working with large datasets, and reduces the likelihood of overfitting when training a machine learning model. \n",
    "\n",
    "To perform PCA, first the dependent/outcome variable is removed from the dataset.  \n",
    "\n",
    "**FOR NOW, this is `crashSeverity`**. Highly-related variables such as `seriousInjuryCount` and `fatalCount` have also been removed. "
   ]
  },
  {
   "cell_type": "code",
   "execution_count": null,
   "id": "d1a71de6-8d85-4b31-950d-8e032b26684d",
   "metadata": {},
   "outputs": [],
   "source": [
    "# Separate the predictor and outcome data\n",
    "X = df.drop(columns=['seriousInjuryCount', 'crashSeverity', 'fatalCount']).values  #produce an array, for input into PCA function (as opposed to df)"
   ]
  },
  {
   "cell_type": "code",
   "execution_count": null,
   "id": "3affee72-a7cb-44a3-8a44-eae56693a535",
   "metadata": {},
   "outputs": [],
   "source": []
  }
 ],
 "metadata": {
  "kernelspec": {
   "display_name": "Python 3 (ipykernel)",
   "language": "python",
   "name": "python3"
  },
  "language_info": {
   "codemirror_mode": {
    "name": "ipython",
    "version": 3
   },
   "file_extension": ".py",
   "mimetype": "text/x-python",
   "name": "python",
   "nbconvert_exporter": "python",
   "pygments_lexer": "ipython3",
   "version": "3.10.5"
  },
  "toc-autonumbering": false,
  "toc-showtags": false
 },
 "nbformat": 4,
 "nbformat_minor": 5
}
